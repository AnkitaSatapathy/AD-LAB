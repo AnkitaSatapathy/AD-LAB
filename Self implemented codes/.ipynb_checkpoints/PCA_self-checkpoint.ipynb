{
 "cells": [
  {
   "cell_type": "code",
   "execution_count": 3,
   "id": "44141d06-2ffc-41e5-9bcb-3265f52d0a0f",
   "metadata": {},
   "outputs": [],
   "source": [
    "import numpy as np\n",
    "\n",
    "class PCA:\n",
    "    def __init__(self, n_components):\n",
    "        self.n_components = n_components\n",
    "        self.components = None\n",
    "        self.mean = None\n",
    "\n",
    "    def fit(self, X):\n",
    "        self.mean = np.mean(X, axis=0)\n",
    "        X = X - self.mean\n",
    "\n",
    "        cov = np.cov(X.T)\n",
    "        eigenvalues, eigenvectors = np.linalg.eig(cov)\n",
    "\n",
    "        eigenvector = eigenvector.T\n",
    "        idxs = np.argsort(eigenvalues)\n",
    "        eigenvector = eigenvector[idxs]\n",
    "        eigenvalue = eigenvalue[idxs]\n",
    "        self.components = eigenvector[idxs[:self.n_components]]\n",
    "\n",
    "    def transform(self, X):\n",
    "        X = X - self.mean\n",
    "        return np.dot(X, self.components.T)"
   ]
  },
  {
   "cell_type": "code",
   "execution_count": null,
   "id": "f7958fd6-effb-471d-9674-9a506f5a5e5a",
   "metadata": {},
   "outputs": [],
   "source": []
  }
 ],
 "metadata": {
  "kernelspec": {
   "display_name": "Python 3 (ipykernel)",
   "language": "python",
   "name": "python3"
  },
  "language_info": {
   "codemirror_mode": {
    "name": "ipython",
    "version": 3
   },
   "file_extension": ".py",
   "mimetype": "text/x-python",
   "name": "python",
   "nbconvert_exporter": "python",
   "pygments_lexer": "ipython3",
   "version": "3.12.7"
  }
 },
 "nbformat": 4,
 "nbformat_minor": 5
}
