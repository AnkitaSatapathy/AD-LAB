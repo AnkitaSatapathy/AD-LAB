{
 "cells": [
  {
   "cell_type": "code",
   "execution_count": 12,
   "id": "68b7acd2-2fac-4ba2-ae51-3713a2e7f41b",
   "metadata": {},
   "outputs": [],
   "source": [
    "import numpy as np\n",
    "from collections import Counter\n",
    "\n",
    "def euclidean(X1, X2):\n",
    "    return np.sqrt(np.sum((X1 - X2) ** 2))  # Fixed misplaced parenthesis\n",
    "\n",
    "class KNN:\n",
    "    def __init__(self, k=3):\n",
    "        self.k = k\n",
    "\n",
    "    def fit(self, X, y):\n",
    "        self.X_train = X\n",
    "        self.y_train = y\n",
    "\n",
    "    def predict(self, X):\n",
    "        return [self._predict(x) for x in X]\n",
    "\n",
    "    def _predict(self, x):\n",
    "        distances = [euclidean(x, x_train) for x_train in self.X_train]  # Fixed X_train reference\n",
    "        k_index = np.argsort(distances)[:self.k]\n",
    "        k_nearest_labels = [self.y_train[i] for i in k_index]\n",
    "        most_common = Counter(k_nearest_labels).most_common(1)  # Added argument (1) to most_common\n",
    "        return most_common[0][0]"
   ]
  },
  {
   "cell_type": "code",
   "execution_count": null,
   "id": "a62c3135-5ebd-4b74-a5e1-fb5a13d7c368",
   "metadata": {},
   "outputs": [],
   "source": []
  }
 ],
 "metadata": {
  "kernelspec": {
   "display_name": "Python 3 (ipykernel)",
   "language": "python",
   "name": "python3"
  },
  "language_info": {
   "codemirror_mode": {
    "name": "ipython",
    "version": 3
   },
   "file_extension": ".py",
   "mimetype": "text/x-python",
   "name": "python",
   "nbconvert_exporter": "python",
   "pygments_lexer": "ipython3",
   "version": "3.12.7"
  }
 },
 "nbformat": 4,
 "nbformat_minor": 5
}
