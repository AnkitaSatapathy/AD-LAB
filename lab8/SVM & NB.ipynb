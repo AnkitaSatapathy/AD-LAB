{
 "cells": [
  {
   "cell_type": "code",
   "execution_count": 5,
   "id": "a5cc60ba-3231-4377-9c4d-012b93c02a83",
   "metadata": {},
   "outputs": [],
   "source": [
    "import numpy as np\n",
    "import matplotlib.pyplot as plt\n",
    "from sklearn.datasets import fetch_openml\n",
    "from sklearn.metrics import accuracy_score, confusion_matrix\n",
    "from sklearn.model_selection import train_test_split\n",
    "from scipy.stats import norm"
   ]
  },
  {
   "cell_type": "code",
   "execution_count": 7,
   "id": "d4b00170-309d-4446-80a9-5ae3fd3253e7",
   "metadata": {},
   "outputs": [],
   "source": [
    "mnist = fetch_openml('mnist_784', version=1)\n",
    "X, y = mnist.data.to_numpy(), mnist.target.to_numpy().astype(int)"
   ]
  },
  {
   "cell_type": "code",
   "execution_count": 9,
   "id": "49b0627e-5f45-4856-97ad-504e4c8b1929",
   "metadata": {},
   "outputs": [],
   "source": [
    "X = X / 255.0\n",
    "y_binary = np.where(y == 0, 1, -1)\n",
    "\n",
    "X_train, X_test, y_train, y_test = train_test_split(X, y_binary, test_size=0.2, random_state=42)"
   ]
  },
  {
   "cell_type": "code",
   "execution_count": 11,
   "id": "605a5bc4-3033-47f4-8bc3-21af746151e8",
   "metadata": {},
   "outputs": [],
   "source": [
    "class SVM:\n",
    "    def __init__(self, learning_rate=0.01, lambda_param=0.01, epochs=1000):\n",
    "        self.lr = learning_rate\n",
    "        self.lambda_param = lambda_param\n",
    "        self.epochs = epochs\n",
    "        self.w = None\n",
    "        self.b = 0\n",
    "\n",
    "    def fit(self, X, y):\n",
    "        n_samples, n_features = X.shape\n",
    "        self.w = np.zeros(n_features)\n",
    "        for _ in range(self.epochs):\n",
    "            for i, x_i in enumerate(X):\n",
    "                condition = y[i] * (np.dot(x_i, self.w) - self.b) >= 1\n",
    "                if condition:\n",
    "                    self.w -= self.lr * (2 * self.lambda_param * self.w)  \n",
    "                else:\n",
    "                    self.w -= self.lr * (2 * self.lambda_param * self.w - np.dot(x_i, y[i]))\n",
    "                    self.b -= self.lr * y[i]\n",
    "\n",
    "    def predict(self, X):\n",
    "        approx = np.dot(X, self.w) - self.b\n",
    "        return np.sign(approx)"
   ]
  },
  {
   "cell_type": "code",
   "execution_count": 13,
   "id": "160afd10-961d-4441-88c4-c30e21fefb61",
   "metadata": {},
   "outputs": [],
   "source": [
    "class NaiveBayes:\n",
    "    def fit(self, X, y):\n",
    "        self.classes = np.unique(y)\n",
    "        self.mean = {}\n",
    "        self.var = {}\n",
    "        self.priors = {}\n",
    "        for c in self.classes:\n",
    "            X_c = X[y == c]\n",
    "            self.mean[c] = np.mean(X_c, axis=0)\n",
    "            self.var[c] = np.var(X_c, axis=0) + 1e-9 \n",
    "            self.priors[c] = X_c.shape[0] / X.shape[0]\n",
    "\n",
    "    def predict(self, X):\n",
    "        preds = [self._predict_single(x) for x in X]\n",
    "        return np.array(preds)\n",
    "\n",
    "    def _predict_single(self, x):\n",
    "        posteriors = []\n",
    "        for c in self.classes:\n",
    "            prior = np.log(self.priors[c])\n",
    "            class_conditional = np.sum(np.log(self._pdf(c, x)))\n",
    "            posterior = prior + class_conditional\n",
    "            posteriors.append(posterior)\n",
    "        return self.classes[np.argmax(posteriors)]\n",
    "\n",
    "    def _pdf(self, class_idx, x):\n",
    "        mean = self.mean[class_idx]\n",
    "        var = self.var[class_idx]\n",
    "        var += 1e-9  \n",
    "        return norm.pdf(x, mean, np.sqrt(var)) + 1e-9  "
   ]
  },
  {
   "cell_type": "code",
   "execution_count": 15,
   "id": "7ae50b86-f7b9-4aa1-9b0a-fe5b5c6b1b08",
   "metadata": {},
   "outputs": [],
   "source": [
    "svm = SVM(learning_rate=0.001, lambda_param=0.01, epochs=1000)\n",
    "svm.fit(X_train, y_train)\n",
    "y_pred_svm = svm.predict(X_test)"
   ]
  },
  {
   "cell_type": "code",
   "execution_count": 17,
   "id": "8612906f-973f-4fcd-9856-80aa9e4796bc",
   "metadata": {},
   "outputs": [],
   "source": [
    "nb = NaiveBayes()\n",
    "nb.fit(X_train, y_train)\n",
    "y_pred_nb = nb.predict(X_test)"
   ]
  },
  {
   "cell_type": "code",
   "execution_count": 19,
   "id": "6016b8e2-5bb7-4d7f-b42d-2de19faa07bd",
   "metadata": {},
   "outputs": [],
   "source": [
    "def calculate_metrics(y_true, y_pred):\n",
    "    conf_matrix = confusion_matrix(y_true, y_pred)\n",
    "    precision = {}\n",
    "    recall = {}\n",
    "    f1_score = {}\n",
    "\n",
    "    for i, label in enumerate(np.unique(y_true)):\n",
    "        TP = conf_matrix[i, i]\n",
    "        FP = sum(conf_matrix[:, i]) - TP\n",
    "        FN = sum(conf_matrix[i, :]) - TP\n",
    "        precision[label] = TP / (TP + FP) if (TP + FP) > 0 else 0\n",
    "        recall[label] = TP / (TP + FN) if (TP + FN) > 0 else 0\n",
    "        f1_score[label] = 2 * (precision[label] * recall[label]) / (precision[label] + recall[label]) if (precision[label] + recall[label]) > 0 else 0\n",
    "\n",
    "    return precision, recall, f1_score, conf_matrix"
   ]
  },
  {
   "cell_type": "code",
   "execution_count": 21,
   "id": "2cc6c761-af94-4ccf-a867-4f4abfeca085",
   "metadata": {},
   "outputs": [],
   "source": [
    "precision_svm, recall_svm, f1_svm, conf_matrix_svm = calculate_metrics(y_test, y_pred_svm)"
   ]
  },
  {
   "cell_type": "code",
   "execution_count": 23,
   "id": "8b04dff9-63c3-4b2a-8d27-39ecc32b1eaf",
   "metadata": {},
   "outputs": [],
   "source": [
    "precision_nb, recall_nb, f1_nb, conf_matrix_nb = calculate_metrics(y_test, y_pred_nb)"
   ]
  },
  {
   "cell_type": "code",
   "execution_count": 25,
   "id": "04306def-d8d3-4917-94ef-680778782346",
   "metadata": {},
   "outputs": [],
   "source": [
    "def print_metrics(model_name, precision, recall, f1_score, conf_matrix, accuracy):\n",
    "    print(f\"\\n\\n===== {model_name} Results =====\")\n",
    "    print(f\"Accuracy: {accuracy * 100:.2f}%\")\n",
    "    print(\"\\nConfusion Matrix:\")\n",
    "    print(conf_matrix)\n",
    "    print(\"\\nPrecision, Recall, F1-Score per class:\")\n",
    "    print(\"Class  | Precision  | Recall  | F1-Score\")\n",
    "    print(\"-----------------------------------------\")\n",
    "    for label in precision.keys():\n",
    "        print(f\"  {label:4} |   {precision[label]:.4f}   | {recall[label]:.4f}  | {f1_score[label]:.4f}\")"
   ]
  },
  {
   "cell_type": "code",
   "execution_count": 27,
   "id": "49821c4b-dd0e-4100-baa1-65c3024c9043",
   "metadata": {},
   "outputs": [
    {
     "name": "stdout",
     "output_type": "stream",
     "text": [
      "\n",
      "\n",
      "===== Support Vector Machine (SVM) Results =====\n",
      "Accuracy: 99.09%\n",
      "\n",
      "Confusion Matrix:\n",
      "[[12613    44]\n",
      " [   83  1260]]\n",
      "\n",
      "Precision, Recall, F1-Score per class:\n",
      "Class  | Precision  | Recall  | F1-Score\n",
      "-----------------------------------------\n",
      "    -1 |   0.9935   | 0.9965  | 0.9950\n",
      "     1 |   0.9663   | 0.9382  | 0.9520\n",
      "\n",
      "\n",
      "===== Naïve Bayes Results =====\n",
      "Accuracy: 29.19%\n",
      "\n",
      "Confusion Matrix:\n",
      "[[2747 9910]\n",
      " [   3 1340]]\n",
      "\n",
      "Precision, Recall, F1-Score per class:\n",
      "Class  | Precision  | Recall  | F1-Score\n",
      "-----------------------------------------\n",
      "    -1 |   0.9989   | 0.2170  | 0.3566\n",
      "     1 |   0.1191   | 0.9978  | 0.2128\n"
     ]
    }
   ],
   "source": [
    "accuracy_svm = accuracy_score(y_test, y_pred_svm)\n",
    "print_metrics(\"Support Vector Machine (SVM)\", precision_svm, recall_svm, f1_svm, conf_matrix_svm, accuracy_svm)\n",
    "\n",
    "accuracy_nb = accuracy_score(y_test, y_pred_nb)\n",
    "print_metrics(\"Naïve Bayes\", precision_nb, recall_nb, f1_nb, conf_matrix_nb, accuracy_nb)"
   ]
  },
  {
   "cell_type": "code",
   "execution_count": null,
   "id": "39b6c084-9d85-4772-af77-f2af5cda638f",
   "metadata": {},
   "outputs": [],
   "source": []
  }
 ],
 "metadata": {
  "kernelspec": {
   "display_name": "Python 3 (ipykernel)",
   "language": "python",
   "name": "python3"
  },
  "language_info": {
   "codemirror_mode": {
    "name": "ipython",
    "version": 3
   },
   "file_extension": ".py",
   "mimetype": "text/x-python",
   "name": "python",
   "nbconvert_exporter": "python",
   "pygments_lexer": "ipython3",
   "version": "3.12.7"
  }
 },
 "nbformat": 4,
 "nbformat_minor": 5
}
