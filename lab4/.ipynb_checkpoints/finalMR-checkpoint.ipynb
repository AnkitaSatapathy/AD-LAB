{
 "cells": [
  {
   "cell_type": "code",
   "execution_count": 49,
   "id": "9a41ccc3-6c39-4ae2-a9e4-fd13cbfb12e4",
   "metadata": {},
   "outputs": [],
   "source": [
    "import pandas as pd\n",
    "import numpy as np\n",
    "import matplotlib.pyplot as plt\n",
    "from sklearn.preprocessing import StandardScaler"
   ]
  },
  {
   "cell_type": "code",
   "execution_count": 51,
   "id": "4d3f12af-dc64-4dde-bbc1-5720eb6d4e98",
   "metadata": {},
   "outputs": [],
   "source": [
    "class LinearRegression:\n",
    "    def _init_(self, learning_rate=0.01, epochs=1000, tol=1e-6):\n",
    "        self.learning_rate = learning_rate\n",
    "        self.epochs = epochs\n",
    "        self.tol = tol\n",
    "        self.weights = None\n",
    "        self.bias = None\n",
    "\n",
    "    def fit(self, X, y):\n",
    "        m, n = X.shape \n",
    "        self.weights = np.zeros(n)\n",
    "        self.bias = 0\n",
    "        prev_loss = float('inf')  \n",
    "        for _ in range(self.epochs):\n",
    "            y_pred = np.dot(X, self.weights) + self.bias\n",
    "            dw = (1 / m) * (np.dot(X.T, (y_pred - y)))\n",
    "            db = (1 / m) * (np.sum(y_pred - y))\n",
    "            self.weights -= self.learning_rate * dw\n",
    "            self.bias -= self.learning_rate * db\n",
    "            current_loss = np.mean(np.square(y_pred - y))\n",
    "            if abs(current_loss - prev_loss) < self.tol:\n",
    "                break\n",
    "            prev_loss = current_loss\n",
    "\n",
    "    def predict(self, X):\n",
    "        return np.dot(X, self.weights) + self.bias"
   ]
  },
  {
   "cell_type": "code",
   "execution_count": null,
   "id": "19aaff2e-6875-43b4-aaac-0b032ebd4f68",
   "metadata": {},
   "outputs": [],
   "source": []
  }
 ],
 "metadata": {
  "kernelspec": {
   "display_name": "Python 3 (ipykernel)",
   "language": "python",
   "name": "python3"
  },
  "language_info": {
   "codemirror_mode": {
    "name": "ipython",
    "version": 3
   },
   "file_extension": ".py",
   "mimetype": "text/x-python",
   "name": "python",
   "nbconvert_exporter": "python",
   "pygments_lexer": "ipython3",
   "version": "3.12.7"
  }
 },
 "nbformat": 4,
 "nbformat_minor": 5
}
